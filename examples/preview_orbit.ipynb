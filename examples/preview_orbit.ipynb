{
 "cells": [
  {
   "cell_type": "code",
   "execution_count": 4,
   "metadata": {},
   "outputs": [],
   "source": [
    "# You can preview an orbit, all you need to do is provide the orbit and which propagator you want\n",
    "# to perform the n-body propagation.\n",
    "from adam_core.orbits import Orbits\n",
    "from adam_assist import ASSISTPropagator"
   ]
  },
  {
   "cell_type": "code",
   "execution_count": 5,
   "metadata": {},
   "outputs": [],
   "source": [
    "# Let's fetch a couple orbits from SBDB\n",
    "from adam_core.orbits.query import query_sbdb\n",
    "\n",
    "orbits = query_sbdb([\"Apophis\", \"202930\"]) # Apophis, Ivezic"
   ]
  },
  {
   "cell_type": "code",
   "execution_count": null,
   "metadata": {},
   "outputs": [],
   "source": [
    "# Create a propagator\n",
    "propagator = ASSISTPropagator()\n",
    "\n",
    "# Generate the preview\n",
    "orbits.preview(propagator)"
   ]
  },
  {
   "cell_type": "markdown",
   "metadata": {},
   "source": [
    "And that's it!"
   ]
  }
 ],
 "metadata": {
  "kernelspec": {
   "display_name": ".venv",
   "language": "python",
   "name": "python3"
  },
  "language_info": {
   "codemirror_mode": {
    "name": "ipython",
    "version": 3
   },
   "file_extension": ".py",
   "mimetype": "text/x-python",
   "name": "python",
   "nbconvert_exporter": "python",
   "pygments_lexer": "ipython3",
   "version": "3.12.7"
  }
 },
 "nbformat": 4,
 "nbformat_minor": 2
}
