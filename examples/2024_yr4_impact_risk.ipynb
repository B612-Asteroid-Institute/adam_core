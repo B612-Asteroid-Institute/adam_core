{
 "cells": [
  {
   "cell_type": "markdown",
   "metadata": {},
   "source": [
    "# So you Want to Calculate an Impact Risk\n",
    "\n",
    "Here we walk you through the steps necesssary to calculate the impact risk for a specified orbit, in this case 2024 YR4.\n",
    "We're going to take a few steps:\n",
    "\n",
    "1. Fetch the state vector for 2024 YR4 from JPL Horizons\n",
    "2. Run calculate impacts, it will create and propagate samples through time and check for collisions.\n",
    "3. Summarize the results into an impact risk.\n",
    "\n",
    "\n",
    "Before we can start, you will need to install a couple packages.\n",
    "\n",
    "```bash\n",
    "pip install adam-core[plots] adam-assist\n",
    "```\n"
   ]
  },
  {
   "cell_type": "code",
   "execution_count": null,
   "metadata": {},
   "outputs": [],
   "source": [
    "# Fetch the state vector from Small Bodies Database (SBDB)\n",
    "from adam_core.orbits.query import query_sbdb\n",
    "\n",
    "orbit = query_sbdb([\"2024 YR4\"])\n",
    "\n",
    "print(orbit.to_dataframe())"
   ]
  },
  {
   "cell_type": "code",
   "execution_count": null,
   "metadata": {},
   "outputs": [],
   "source": [
    "# We need to know how many days out to run the propagation,\n",
    "# relative to when the orbit state vector is defined.\n",
    "# Let's go 30 days past the possible 2032 impact of 2024 YR4\n",
    "from adam_core.time import Timestamp\n",
    "approx_impact_date = Timestamp.from_iso8601([\"2032-12-22\"], scale=\"tdb\")\n",
    "thirty_days_after_impact = approx_impact_date.add_days(30)\n",
    "days_until_thirty_days_after_impact, _ = thirty_days_after_impact.difference(orbit.coordinates.time)\n",
    "print(days_until_thirty_days_after_impact)"
   ]
  },
  {
   "cell_type": "code",
   "execution_count": null,
   "metadata": {},
   "outputs": [],
   "source": [
    "# Now we initialize our propagator, and pass it to our calculate_impacts function\n",
    "from adam_core.dynamics.impacts import calculate_impacts\n",
    "from adam_assist import ASSISTPropagator\n",
    "\n",
    "propagator = ASSISTPropagator()\n",
    "\n",
    "variants, impacts = calculate_impacts(\n",
    "    orbit,\n",
    "    days_until_thirty_days_after_impact[0].as_py(),\n",
    "    propagator,\n",
    "    num_samples=10000,\n",
    "    processes=10, # Multiprocessing speeds things up if you have the CPUs\n",
    ")\n",
    "\n",
    "print(variants, impacts)"
   ]
  },
  {
   "cell_type": "code",
   "execution_count": null,
   "metadata": {},
   "outputs": [],
   "source": [
    "# Now we can summarize the returns, a simple ratio in our case\n",
    "# with only 1 orbit considered\n",
    "from adam_core.dynamics.impacts import calculate_impact_probabilities\n",
    "ip = calculate_impact_probabilities(variants, impacts)\n",
    "print(ip.to_dataframe())"
   ]
  },
  {
   "cell_type": "markdown",
   "metadata": {},
   "source": [
    "We've recently added some visualization functionality to visualize both the risk corridor and the impact events. Let's first look at the impact corridor."
   ]
  },
  {
   "cell_type": "code",
   "execution_count": null,
   "metadata": {},
   "outputs": [],
   "source": [
    "from adam_core.dynamics.plots import plot_risk_corridor\n",
    "\n",
    "fig = plot_risk_corridor(impacts, title=\"Risk Corridor for 2024 YR4\")\n",
    "fig.show()"
   ]
  },
  {
   "cell_type": "code",
   "execution_count": 6,
   "metadata": {},
   "outputs": [],
   "source": [
    "from adam_core.dynamics.plots import generate_impact_visualization_data\n",
    "\n",
    "propagated_best_fit_orbit, propagated_variants = generate_impact_visualization_data(\n",
    "    orbit,\n",
    "    variants,\n",
    "    impacts,\n",
    "    propagator,\n",
    "    time_step=5,\n",
    "    time_range=120,\n",
    "    max_processes=None\n",
    ")"
   ]
  },
  {
   "cell_type": "code",
   "execution_count": null,
   "metadata": {},
   "outputs": [],
   "source": [
    "from adam_core.dynamics.plots import plot_impact_simulation\n",
    "\n",
    "fig = plot_impact_simulation(\n",
    "    propagated_best_fit_orbit, \n",
    "    propagated_variants, \n",
    "    impacts, \n",
    "    grid=True, \n",
    "    title=\"2024 YR4 Impact Simulation\",\n",
    ")\n",
    "fig.show()"
   ]
  },
  {
   "cell_type": "markdown",
   "metadata": {},
   "source": [
    "And there you have it. "
   ]
  }
 ],
 "metadata": {
  "kernelspec": {
   "display_name": ".venv",
   "language": "python",
   "name": "python3"
  },
  "language_info": {
   "codemirror_mode": {
    "name": "ipython",
    "version": 3
   },
   "file_extension": ".py",
   "mimetype": "text/x-python",
   "name": "python",
   "nbconvert_exporter": "python",
   "pygments_lexer": "ipython3",
   "version": "3.12.7"
  }
 },
 "nbformat": 4,
 "nbformat_minor": 2
}
