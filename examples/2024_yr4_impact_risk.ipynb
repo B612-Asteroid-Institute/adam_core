{
 "cells": [
  {
   "cell_type": "markdown",
   "metadata": {},
   "source": [
    "# So you Want to Calculate an Impact Risk\n",
    "\n",
    "Here we walk you through the steps necesssary to calculate the impact risk for a specified orbit, in this case 2024 YR4.\n",
    "We're going to take a few steps:\n",
    "\n",
    "1. Fetch the state vector for 2024 YR4 from JPL Horizons\n",
    "2. Run calculate impacts, it will create and propagate samples through time and check for collisions.\n",
    "3. Summarize the results into an impact risk.\n",
    "\n",
    "\n",
    "Before we can start, you will need to install a couple packages.\n",
    "\n",
    "```bash\n",
    "pip install adam-core[plots] adam-assist\n",
    "```\n"
   ]
  },
  {
   "cell_type": "code",
   "execution_count": null,
   "metadata": {},
   "outputs": [],
   "source": [
    "# Fetch the state vector from Small Bodies Database (SBDB)\n",
    "from adam_core.orbits.query import query_sbdb\n",
    "\n",
    "orbit = query_sbdb([\"2024 YR4\"])\n",
    "\n",
    "orbit.to_dataframe()"
   ]
  },
  {
   "cell_type": "code",
   "execution_count": null,
   "metadata": {},
   "outputs": [],
   "source": [
    "# We need to know how many days out to run the propagation,\n",
    "# relative to when the orbit state vector is defined.\n",
    "# Let's go 30 days past the possible 2032 impact of 2024 YR4\n",
    "from adam_core.time import Timestamp\n",
    "approx_impact_date = Timestamp.from_iso8601([\"2032-12-22\"], scale=\"tdb\")\n",
    "thirty_days_after_impact = approx_impact_date.add_days(30)\n",
    "days_until_thirty_days_after_impact, _ = thirty_days_after_impact.difference(orbit.coordinates.time)\n",
    "days_until_thirty_days_after_impact"
   ]
  },
  {
   "cell_type": "markdown",
   "metadata": {},
   "source": [
    "Let's propagate the nominal orbit to about 30 days before the impact time and do a quick minimum orbit intersection distance (MOID) calculation. The propagation we do before hand is important because the MOID calculation uses 2-body dynamics (a simple Keplerian orbit) and that approximation does not hold for long periods of time."
   ]
  },
  {
   "cell_type": "code",
   "execution_count": null,
   "metadata": {},
   "outputs": [],
   "source": [
    "from adam_assist import ASSISTPropagator\n",
    "\n",
    "propagator = ASSISTPropagator()\n",
    "propagated_orbit = propagator.propagate_orbits(orbit, approx_impact_date.add_days(-30), covariance=True)\n",
    "propagated_orbit.to_dataframe()"
   ]
  },
  {
   "cell_type": "code",
   "execution_count": null,
   "metadata": {},
   "outputs": [],
   "source": [
    "from adam_core.dynamics.moid import calculate_perturber_moids\n",
    "from adam_core.coordinates import OriginCodes\n",
    "\n",
    "moids = calculate_perturber_moids(propagated_orbit, OriginCodes.EARTH)\n",
    "moids.to_dataframe()\n"
   ]
  },
  {
   "cell_type": "code",
   "execution_count": null,
   "metadata": {},
   "outputs": [],
   "source": [
    "from adam_core.constants import KM_P_AU\n",
    "\n",
    "# Compute moid in KM\n",
    "moids.select(\"perturber.code\", \"EARTH\").moid[0].as_py() * KM_P_AU"
   ]
  },
  {
   "cell_type": "code",
   "execution_count": null,
   "metadata": {},
   "outputs": [],
   "source": [
    "# Now we initialize our propagator, and pass it to our calculate_impacts function\n",
    "from adam_core.dynamics.impacts import calculate_impacts, CollisionConditions\n",
    "from adam_core.coordinates import Origin\n",
    "\n",
    "\n",
    "# Define the collision conditions including a potential impact on the Moon\n",
    "conditions = CollisionConditions.from_kwargs(\n",
    "    condition_id=[\"Earth\", \"Moon\"],\n",
    "    collision_object=Origin.from_kwargs(code=[\"EARTH\", \"MOON\"]),\n",
    "    collision_distance=[6420, 1740],\n",
    "    stopping_condition=[True, True],\n",
    ")\n",
    "\n",
    "variants, impacts = calculate_impacts(\n",
    "    orbit,\n",
    "    days_until_thirty_days_after_impact[0].as_py(),\n",
    "    propagator,\n",
    "    num_samples=10000,\n",
    "    processes=10, # Multiprocessing speeds things up if you have the CPUs\n",
    "    conditions=conditions,\n",
    ")"
   ]
  },
  {
   "cell_type": "code",
   "execution_count": null,
   "metadata": {},
   "outputs": [],
   "source": [
    "variants.to_dataframe()"
   ]
  },
  {
   "cell_type": "code",
   "execution_count": null,
   "metadata": {},
   "outputs": [],
   "source": [
    "impacts.to_dataframe()"
   ]
  },
  {
   "cell_type": "code",
   "execution_count": null,
   "metadata": {},
   "outputs": [],
   "source": [
    "# Alternatively, if we don't know the impact date (which is the case in reality at discovery)\n",
    "from adam_core.orbits import VariantOrbits\n",
    "\n",
    "variants_orbits = VariantOrbits.create(\n",
    "    orbit,\n",
    "    method=\"monte-carlo\",\n",
    "    num_samples=10000,\n",
    "    seed=612,\n",
    ")\n",
    "\n",
    "variants, impacts = propagator.detect_collisions(\n",
    "    variants_orbits,\n",
    "    8 * 365, # Propagate for 8 years\n",
    "    conditions=conditions,\n",
    "    max_processes=10,\n",
    ")\n",
    "impacts.to_dataframe()"
   ]
  },
  {
   "cell_type": "code",
   "execution_count": null,
   "metadata": {},
   "outputs": [],
   "source": [
    "# Now we can summarize the returns, a simple ratio in our case\n",
    "# with only 1 orbit considered/\n",
    "from adam_core.dynamics.impacts import calculate_impact_probabilities\n",
    "ip = calculate_impact_probabilities(variants, impacts, conditions=conditions)\n",
    "ip.to_dataframe()"
   ]
  },
  {
   "cell_type": "markdown",
   "metadata": {},
   "source": [
    "We've recently added some visualization functionality to visualize both the risk corridor and the impact events. Let's first look at the impact corridor."
   ]
  },
  {
   "cell_type": "code",
   "execution_count": null,
   "metadata": {},
   "outputs": [],
   "source": [
    "from adam_core.dynamics.plots import plot_risk_corridor\n",
    "\n",
    "fig = plot_risk_corridor(impacts, title=\"Risk Corridor for 2024 YR4\")\n",
    "fig.show()"
   ]
  },
  {
   "cell_type": "code",
   "execution_count": 12,
   "metadata": {},
   "outputs": [],
   "source": [
    "from adam_core.dynamics.plots import generate_impact_visualization_data\n",
    "\n",
    "propagation_times, propagated_best_fit_orbit, propagated_variants = generate_impact_visualization_data(\n",
    "    orbit,\n",
    "    variants,\n",
    "    impacts,\n",
    "    propagator,\n",
    "    time_step=5,\n",
    "    time_range=60,\n",
    "    max_processes=None\n",
    ")"
   ]
  },
  {
   "cell_type": "code",
   "execution_count": null,
   "metadata": {},
   "outputs": [],
   "source": [
    "from adam_core.dynamics.plots import plot_impact_simulation\n",
    "\n",
    "fig = plot_impact_simulation(\n",
    "    propagation_times,\n",
    "    propagated_best_fit_orbit, \n",
    "    propagated_variants, \n",
    "    impacts, \n",
    "    title=\"2024 YR4 Impact Simulation (Simulated on 2025-04-03)\",\n",
    "    sample_impactors=None,\n",
    "    sample_non_impactors=0.1\n",
    ")\n",
    "fig.write_html(\"2024YR4_impact_simulation_20250403.html\")"
   ]
  },
  {
   "cell_type": "markdown",
   "metadata": {},
   "source": [
    "And there you have it. "
   ]
  },
  {
   "cell_type": "code",
   "execution_count": null,
   "metadata": {},
   "outputs": [],
   "source": [
    "fig"
   ]
  },
  {
   "cell_type": "markdown",
   "metadata": {},
   "source": []
  }
 ],
 "metadata": {
  "kernelspec": {
   "display_name": ".venv",
   "language": "python",
   "name": "python3"
  },
  "language_info": {
   "codemirror_mode": {
    "name": "ipython",
    "version": 3
   },
   "file_extension": ".py",
   "mimetype": "text/x-python",
   "name": "python",
   "nbconvert_exporter": "python",
   "pygments_lexer": "ipython3",
   "version": "3.11.5"
  }
 },
 "nbformat": 4,
 "nbformat_minor": 2
}
