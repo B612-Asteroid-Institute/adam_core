{
 "cells": [
  {
   "cell_type": "markdown",
   "metadata": {},
   "source": [
    "# Introduction to adam_core\n",
    "\n",
    "In this tutorial, we will work through querying a variety of different external services for the orbits of asteroids. Using their orbits, we'll then venture into propagating them to a desired set of times and we'll generate ephemeris for asteroids for a set of observers for these asteroids. Along the way, we'll touch on some of the underlying types that allow for easy time scale conversions, conversions of orbital elements (including their covariances), among others. \n",
    "\n",
    "Contents\n",
    "- [Installation](#installation)\n",
    "- [Querying for Orbits](#querying-for-orbits)\n",
    "    - [Querying JPL Small Body Database (SBDB)](#querying-jpl-small-body-database-sbdb)\n",
    "    - [Querying JPL Horizons](#querying-horizons)\n",
    "    - [Querying JPL Scout](#querying-jpl-scout)\n",
    "    - [Querying ESA NEOCC](#querying-esa-neo-cc)\n",
    "- [What are these objects?](#what-are-these-objects)\n",
    "    - [Orbits](#orbits)\n",
    "    - [Coordinates & Transforms](#coordinates-&-transforms)\n",
    "    - [Timestamps](#timestamps)\n",
    "- [Propagating Orbits](#propagating-orbits)\n",
    "- [Generating Ephemeris](#generating-ephemeris)\n"
   ]
  },
  {
   "cell_type": "markdown",
   "metadata": {},
   "source": [
    "## Installation\n",
    "\n",
    "adam_core is available on PyPI.\n",
    "\n",
    "```bash\n",
    "pip install adam-core\n",
    "```\n",
    "\n",
    "If you'd like also install the ASSIST propagator (required for propagating orbits with a non 2-body force model), you can install the `test` extras. (We will add `assist` extras soon.)\n",
    "\n",
    "```bash\n",
    "pip install adam-core[test]\n",
    "```\n",
    "\n",
    "If you'd like to install the plotting and visualization tools, you can install the `plots` extras.\n",
    "\n",
    "```bash\n",
    "pip install adam-core[plots]\n",
    "```"
   ]
  },
  {
   "cell_type": "markdown",
   "metadata": {},
   "source": [
    "If you're familar with pdm, you can also install adam_core via pdm (assuming you've cloned the repository).\n",
    "\n",
    "```bash\n",
    "pdm install -G plots -G dev\n",
    "```"
   ]
  },
  {
   "cell_type": "markdown",
   "metadata": {},
   "source": [
    "## Querying for Orbits\n",
    "\n",
    "### Querying JPL Small Body Database (SBDB)\n",
    "\n",
    "We can query the JPL Small Body Database (SBDB) for the orbits of objects. These objects are typically defined at a similar epoch to the epoch of the MPC catalog. Our query tool also pulls the full-precision covariance matrix of the state vectors.\n"
   ]
  },
  {
   "cell_type": "code",
   "execution_count": null,
   "metadata": {},
   "outputs": [],
   "source": [
    "from adam_core.orbits.query import query_sbdb\n",
    "\n",
    "object_ids = [\"Ivezic\", \"Edlu\", \"Holman\", \"Deadoklestic\"]\n",
    "\n",
    "orbits_sbdb = query_sbdb(object_ids)\n",
    "orbits_sbdb"
   ]
  },
  {
   "cell_type": "markdown",
   "metadata": {},
   "source": [
    "### Querying JPL Horizons\n",
    "\n",
    "We can query JPL Horizons (via astroquery) for the orbits of objects at particular times. In adam_core, we have use integer times via the Timestamp class."
   ]
  },
  {
   "cell_type": "code",
   "execution_count": null,
   "metadata": {},
   "outputs": [],
   "source": [
    "from adam_core.orbits.query import query_horizons\n",
    "from adam_core.time import Timestamp\n",
    "\n",
    "object_ids = [\"Ivezic\", \"Edlu\", \"Holman\", \"Deadoklestic\"]\n",
    "time = Timestamp.from_mjd([60000.0], scale=\"utc\")\n",
    "\n",
    "orbits_horizons = query_horizons(object_ids, time)\n",
    "orbits_horizons"
   ]
  },
  {
   "cell_type": "markdown",
   "metadata": {},
   "source": [
    "### Querying JPL Scout\n",
    "\n",
    "JPL's SCOUT tracks NEO candidates that have not yet been designated or added to the official catalog of known objects. SCOUT does not provide the nominal state vectors but instead provides a range of possible state vectors that match the given observations (variants)."
   ]
  },
  {
   "cell_type": "code",
   "execution_count": null,
   "metadata": {},
   "outputs": [],
   "source": [
    "from adam_core.orbits.query import query_scout\n",
    "from adam_core.orbits.query.scout import get_scout_objects\n",
    "\n",
    "scout_objects = get_scout_objects()\n",
    "orbits_scout = query_scout(scout_objects.objectName)\n",
    "orbits_scout"
   ]
  },
  {
   "cell_type": "markdown",
   "metadata": {},
   "source": [
    "### Querying ESA NEOCC\n",
    "\n",
    "We can query the NEOCC (Near Earth Object Coordination Center) of the European Space Agency (ESA) for the orbits of objects (typically NEOs)."
   ]
  },
  {
   "cell_type": "code",
   "execution_count": null,
   "metadata": {},
   "outputs": [],
   "source": [
    "from adam_core.orbits.query import query_neocc\n",
    "\n",
    "object_ids = [\"2024 YR4\", \"2018 BP1\", \"2013 RR165\"]\n",
    "\n",
    "orbits_neocc = query_neocc(object_ids)\n",
    "orbits_neocc"
   ]
  },
  {
   "cell_type": "markdown",
   "metadata": {},
   "source": [
    "## What are these objects?\n",
    "\n",
    "We've seen an adam_core Orbits object, a Timestamp object, and even a VariantOrbits object. Let's take a look at what these objects actually are."
   ]
  },
  {
   "cell_type": "markdown",
   "metadata": {},
   "source": [
    "### Orbits\n",
    "Let's start with the Orbits object and venture into the coordinates object attached to it."
   ]
  },
  {
   "cell_type": "code",
   "execution_count": null,
   "metadata": {},
   "outputs": [],
   "source": [
    "orbits = orbits_sbdb\n",
    "orbits.to_dataframe()"
   ]
  },
  {
   "cell_type": "markdown",
   "metadata": {},
   "source": [
    "### Coordinates & Transforms\n",
    "\n",
    "adam_core has support for a variety of different coordinate systems or representations of the state vector. By default, the Orbits class stores Cartesian state vectors."
   ]
  },
  {
   "cell_type": "code",
   "execution_count": null,
   "metadata": {},
   "outputs": [],
   "source": [
    "coords = orbits.coordinates\n",
    "coords"
   ]
  },
  {
   "cell_type": "code",
   "execution_count": null,
   "metadata": {},
   "outputs": [],
   "source": [
    "coords.r"
   ]
  },
  {
   "cell_type": "code",
   "execution_count": null,
   "metadata": {},
   "outputs": [],
   "source": [
    "coords.v"
   ]
  },
  {
   "cell_type": "code",
   "execution_count": null,
   "metadata": {},
   "outputs": [],
   "source": [
    "coords.sigma_r"
   ]
  },
  {
   "cell_type": "code",
   "execution_count": null,
   "metadata": {},
   "outputs": [],
   "source": [
    "coords.sigma_v"
   ]
  },
  {
   "cell_type": "code",
   "execution_count": null,
   "metadata": {},
   "outputs": [],
   "source": [
    "# Angular momentum of the orbit in units of au^2 / d\n",
    "coords.h_mag"
   ]
  },
  {
   "cell_type": "markdown",
   "metadata": {},
   "source": [
    "Cartesian state vectors are not the easiest to interpret so we've made transformations between the different coordinate system as easy as possible. Other coordinate representations supported are\n",
    "- SphericalCoordinates ($\\rho, \\theta, \\phi, \\dot{\\rho}, \\dot{\\theta}, \\dot{\\phi}$)\n",
    "- KeplerianCoordinates (a, e, i, $\\Omega$, $\\omega$, $M$)\n",
    "- CometaryCoordinates (q, e, i, $\\Omega$, $\\omega$, $t_p$)\n",
    "\n",
    "Notice that in each of the following transformations, we've also transformed the covariance matrices to the new representation."
   ]
  },
  {
   "cell_type": "code",
   "execution_count": null,
   "metadata": {},
   "outputs": [],
   "source": [
    "keplerian_coordinates = orbits.coordinates.to_keplerian()\n",
    "keplerian_coordinates.to_dataframe()"
   ]
  },
  {
   "cell_type": "code",
   "execution_count": null,
   "metadata": {},
   "outputs": [],
   "source": [
    "cometary_coordinates = orbits.coordinates.to_cometary()\n",
    "cometary_coordinates.to_dataframe()"
   ]
  },
  {
   "cell_type": "code",
   "execution_count": null,
   "metadata": {},
   "outputs": [],
   "source": [
    "spherical_coordinates = orbits.coordinates.to_spherical()\n",
    "spherical_coordinates.to_dataframe()\n"
   ]
  },
  {
   "cell_type": "markdown",
   "metadata": {},
   "source": [
    "For a more general transformation, which can include rotations to different frames of reference, translations to different origins, etc., we can use the `transform_coordinates` function. Again, notice that the covariance matrices are transformed along with the state vectors."
   ]
  },
  {
   "cell_type": "code",
   "execution_count": null,
   "metadata": {},
   "outputs": [],
   "source": [
    "from adam_core.coordinates import transform_coordinates\n",
    "from adam_core.coordinates import OriginCodes, KeplerianCoordinates\n",
    "\n",
    "coords_geo_keplerian = transform_coordinates(\n",
    "    orbits.coordinates,\n",
    "    representation_out=KeplerianCoordinates,\n",
    "    frame_out=\"equatorial\",\n",
    "    origin_out=OriginCodes.EARTH\n",
    ")\n",
    "\n",
    "coords_geo_keplerian.to_dataframe()"
   ]
  },
  {
   "cell_type": "markdown",
   "metadata": {},
   "source": [
    "## Timestamps\n",
    "\n",
    "Coordinates also contain a time at which they are defined. We've created a custom `Timestamp` class that stores times as two 64-bit integers (days and nanoseconds). A driving motivation for this is that matching on integers is a lot easier than trying to match on floats. For example, trying to join an exposures table with an ephemeris table on float values (such as MJDs) does not always guarantee the desired match especially if the floating point values are derived from different sources (propagator vs catalog). Doing this with integers is a lot easier and we've defined functions in the cases where the matches are not exact. "
   ]
  },
  {
   "cell_type": "code",
   "execution_count": null,
   "metadata": {},
   "outputs": [],
   "source": [
    "from adam_core.time import Timestamp\n",
    "\n",
    "time = Timestamp.from_kwargs(\n",
    "    days=[60000, 60000],\n",
    "    nanos=[1e6, 1e6 + 0.5e6],\n",
    "    scale=\"tai\"\n",
    ")\n",
    "\n",
    "time.to_dataframe()"
   ]
  },
  {
   "cell_type": "code",
   "execution_count": null,
   "metadata": {},
   "outputs": [],
   "source": [
    "time[1].difference(time[0])"
   ]
  },
  {
   "cell_type": "code",
   "execution_count": 25,
   "metadata": {},
   "outputs": [
    {
     "name": "stdout",
     "output_type": "stream",
     "text": [
      "[\n",
      "  true\n",
      "]\n",
      "[\n",
      "  false\n",
      "]\n"
     ]
    }
   ],
   "source": [
    "print(time[1].equals(time[0], precision=\"ms\"))\n",
    "\n",
    "print(time[1].equals(time[0], precision=\"us\"))"
   ]
  },
  {
   "cell_type": "code",
   "execution_count": 26,
   "metadata": {},
   "outputs": [
    {
     "data": {
      "text/plain": [
       "array(['2023-02-25T00:00:00.001', '2023-02-25T00:00:00.001'], dtype='<U23')"
      ]
     },
     "execution_count": 26,
     "metadata": {},
     "output_type": "execute_result"
    }
   ],
   "source": [
    "astropy_time = time.to_astropy()\n",
    "\n",
    "astropy_time.isot"
   ]
  },
  {
   "cell_type": "code",
   "execution_count": 27,
   "metadata": {},
   "outputs": [
    {
     "name": "stdout",
     "output_type": "stream",
     "text": [
      "    days  nanos\n",
      "0  60000      0\n",
      "tai\n"
     ]
    }
   ],
   "source": [
    "from astropy.time import Time\n",
    "\n",
    "astropy_time = Time(60000.0, format=\"mjd\", scale=\"tai\")\n",
    "time_from_astropy = Timestamp.from_astropy(astropy_time)\n",
    "\n",
    "print(time_from_astropy.to_dataframe())\n",
    "print(time_from_astropy.scale)"
   ]
  },
  {
   "cell_type": "markdown",
   "metadata": {},
   "source": [
    "## Propagating Orbits\n",
    "\n",
    "adam_core has support for propagating orbits using a two different propagators (ASSIST and PYOORB). We recommend using the ASSIST propagator for most use cases as it has the more robust force model (thank you, Matt Holman!).\n",
    "\n",
    "You can also add your own propagators by subclassing the `Propagator` class and implementing the `_propagate_orbits` method. The base `Propagator` class handles the multiprocessing (via `ray`) of the propagation, so you only need to implement the core logic of how to propagate a chunk of orbits. Likewise, if your propagator can handle ephemeris generation you can subclass the `EphemerisMixin` class and implement the `_generate_ephemeris` method. If your propagator can also handle collision (or impact) detection you can subclass the `ImpactMixin` class and implement the `_detect_impacts` method.\n",
    "\n",
    "Here's an example of propagating orbits using the ASSIST propagator."
   ]
  },
  {
   "cell_type": "code",
   "execution_count": null,
   "metadata": {},
   "outputs": [],
   "source": [
    "import numpy as np\n",
    "from adam_assist import ASSISTPropagator\n",
    "\n",
    "propagator = ASSISTPropagator()\n",
    "\n",
    "# Create a set of times to propagate the orbits to\n",
    "times = Timestamp.from_mjd(np.arange(60000, 61000, 5))\n",
    "\n",
    "# Note: show parallel processing and covariance propagation\n",
    "propagated_orbits = propagator.propagate_orbits(orbits, times)\n",
    "propagated_orbits.to_dataframe()"
   ]
  },
  {
   "cell_type": "markdown",
   "metadata": {},
   "source": [
    "Now that we have been introduced to the Orbits and Propagator classes. Let's just quickly preview our input orbits:\n"
   ]
  },
  {
   "cell_type": "code",
   "execution_count": null,
   "metadata": {},
   "outputs": [],
   "source": [
    "orbits.preview(propagator)"
   ]
  },
  {
   "cell_type": "markdown",
   "metadata": {},
   "source": [
    "## Generating Ephemeris\n",
    "\n",
    "Let's continue using the ASSIST propagator to generate ephemeris for a set of observers for the given set of orbits."
   ]
  },
  {
   "cell_type": "code",
   "execution_count": null,
   "metadata": {},
   "outputs": [],
   "source": [
    "from adam_core.observers import Observers\n",
    "\n",
    "\n",
    "# Note: we gather the observer's heliocentric state vectors are the given times which will allow us to also support non-Earth observers (like spacecraft or other asteroids)\n",
    "# Note note: how does this work? -- Data packages\n",
    "observers = Observers.from_code(\"X05\", times)\n",
    "observers.to_dataframe()"
   ]
  },
  {
   "cell_type": "code",
   "execution_count": null,
   "metadata": {},
   "outputs": [],
   "source": [
    "ephemeris = propagator.generate_ephemeris(orbits, observers, max_processes=10)\n",
    "ephemeris.to_dataframe()"
   ]
  }
 ],
 "metadata": {
  "kernelspec": {
   "display_name": ".venv",
   "language": "python",
   "name": "python3"
  },
  "language_info": {
   "codemirror_mode": {
    "name": "ipython",
    "version": 3
   },
   "file_extension": ".py",
   "mimetype": "text/x-python",
   "name": "python",
   "nbconvert_exporter": "python",
   "pygments_lexer": "ipython3",
   "version": "3.12.8"
  }
 },
 "nbformat": 4,
 "nbformat_minor": 2
}
